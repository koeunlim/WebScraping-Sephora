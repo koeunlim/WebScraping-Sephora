{
 "cells": [
  {
   "cell_type": "markdown",
   "metadata": {},
   "source": [
    "# WebScraping-Sephora: Step 4. Statistical Analysis\n",
    "NYCDSA web scraping project"
   ]
  },
  {
   "cell_type": "markdown",
   "metadata": {},
   "source": [
    "---\n",
    "## Project Description\n",
    "The goal of this project is to explore the color spectrum of the foundations and lipsticks given reviewer's dominant colors (hair color, eye color, and skin tone from Sephora's reviewer inputs) to see if particular features are strongly correlated between the purchased and liked foundation and lipstick colors.\n",
    "\n",
    "Please see Readme.md for more information including the Repository layout.\n",
    "\n",
    "\n",
    "### Project Outline\n",
    "- Step 1. Scrape product URLs\n",
    "- Step 2. Scrape product reviews\n",
    "- Step 3. Load all data and explore data\n",
    "- Step 4. Statistical analysis"
   ]
  },
  {
   "cell_type": "markdown",
   "metadata": {},
   "source": [
    "---\n",
    "### Step 4. Statistical Analysis\n",
    "Linear regression and ANOVA were performed."
   ]
  },
  {
   "cell_type": "code",
   "execution_count": 1,
   "metadata": {},
   "outputs": [],
   "source": [
    "import glob\n",
    "import pandas as pd\n",
    "import numpy as np\n",
    "\n",
    "import statsmodels.api as sm\n",
    "from statsmodels.formula.api import ols\n",
    "from statsmodels.multivariate.manova import MANOVA\n",
    "from patsy.contrasts import Treatment\n",
    "from sklearn.linear_model import LinearRegression\n",
    "\n",
    "import seaborn as sns\n",
    "from matplotlib import cm\n",
    "from matplotlib import colors\n",
    "import matplotlib.pyplot as plt\n",
    "from mpl_toolkits.mplot3d import Axes3D"
   ]
  },
  {
   "cell_type": "code",
   "execution_count": 29,
   "metadata": {},
   "outputs": [],
   "source": [
    "# suppress warnings\n",
    "import warnings\n",
    "warnings.filterwarnings('ignore')"
   ]
  },
  {
   "cell_type": "code",
   "execution_count": 18,
   "metadata": {},
   "outputs": [],
   "source": [
    "%store -r 'df'\n",
    "%store -r 'skintone_colors'\n",
    "%store -r 'skintones'\n",
    "%store -r 'haircolor_colors'\n",
    "%store -r 'haircolors'\n",
    "%store -r 'eyecolor_colors'\n",
    "%store -r 'eyecolors'"
   ]
  },
  {
   "cell_type": "markdown",
   "metadata": {},
   "source": [
    "### Statistical Analysis - ANOVA & LM \n",
    "Luminosity ~ skintone + hair + eyecolors"
   ]
  },
  {
   "cell_type": "code",
   "execution_count": 4,
   "metadata": {},
   "outputs": [
    {
     "name": "stdout",
     "output_type": "stream",
     "text": [
      "LM and ANOVA - Foundation Luminosity ~ skintone + hair + eyecolors\n",
      "                            OLS Regression Results                            \n",
      "==============================================================================\n",
      "Dep. Variable:             Luminosity   R-squared:                       0.458\n",
      "Model:                            OLS   Adj. R-squared:                  0.458\n",
      "Method:                 Least Squares   F-statistic:                     5505.\n",
      "Date:                Fri, 18 Dec 2020   Prob (F-statistic):               0.00\n",
      "Time:                        22:33:27   Log-Likelihood:             1.2655e+05\n",
      "No. Observations:              110548   AIC:                        -2.531e+05\n",
      "Df Residuals:                  110530   BIC:                        -2.529e+05\n",
      "Df Model:                          17                                         \n",
      "Covariance Type:            nonrobust                                         \n",
      "====================================================================================================================\n",
      "                                                       coef    std err          t      P>|t|      [0.025      0.975]\n",
      "--------------------------------------------------------------------------------------------------------------------\n",
      "Intercept                                            0.7595      0.001   1296.498      0.000       0.758       0.761\n",
      "C(Skintone, Treatment(reference=4))[T.dark]         -0.2478      0.001   -175.420      0.000      -0.251      -0.245\n",
      "C(Skintone, Treatment(reference=4))[T.deep]         -0.1641      0.001   -141.223      0.000      -0.166      -0.162\n",
      "C(Skintone, Treatment(reference=4))[T.ebony]        -0.3001      0.002   -122.101      0.000      -0.305      -0.295\n",
      "C(Skintone, Treatment(reference=4))[T.fair]          0.0193      0.001     27.070      0.000       0.018       0.021\n",
      "C(Skintone, Treatment(reference=4))[T.medium]       -0.0337      0.001    -49.685      0.000      -0.035      -0.032\n",
      "C(Skintone, Treatment(reference=4))[T.olive]        -0.0698      0.001    -71.483      0.000      -0.072      -0.068\n",
      "C(Skintone, Treatment(reference=4))[T.porcelain]     0.0494      0.001     47.737      0.000       0.047       0.051\n",
      "C(Skintone, Treatment(reference=4))[T.tan]          -0.0690      0.001    -72.695      0.000      -0.071      -0.067\n",
      "C(Haircolor, Treatment(reference=3))[T.auburn]      -0.0003      0.001     -0.214      0.831      -0.003       0.002\n",
      "C(Haircolor, Treatment(reference=3))[T.black]       -0.0072      0.001    -11.209      0.000      -0.009      -0.006\n",
      "C(Haircolor, Treatment(reference=3))[T.blonde]      -0.0007      0.001     -1.048      0.295      -0.002       0.001\n",
      "C(Haircolor, Treatment(reference=3))[T.gray]        -0.0012      0.003     -0.393      0.694      -0.007       0.005\n",
      "C(Haircolor, Treatment(reference=3))[T.red]          0.0049      0.001      3.429      0.001       0.002       0.008\n",
      "C(Eyecolor, Treatment(reference=1))[T.blue]          0.0076      0.001     10.143      0.000       0.006       0.009\n",
      "C(Eyecolor, Treatment(reference=1))[T.gray]          0.0139      0.003      4.497      0.000       0.008       0.020\n",
      "C(Eyecolor, Treatment(reference=1))[T.green]         0.0064      0.001      8.046      0.000       0.005       0.008\n",
      "C(Eyecolor, Treatment(reference=1))[T.hazel]         0.0057      0.001      7.510      0.000       0.004       0.007\n",
      "==============================================================================\n",
      "Omnibus:                     4792.321   Durbin-Watson:                   1.040\n",
      "Prob(Omnibus):                  0.000   Jarque-Bera (JB):             6626.744\n",
      "Skew:                          -0.431   Prob(JB):                         0.00\n",
      "Kurtosis:                       3.835   Cond. No.                         15.3\n",
      "==============================================================================\n",
      "\n",
      "Warnings:\n",
      "[1] Standard Errors assume that the covariance matrix of the errors is correctly specified.\n",
      "\n",
      "\n",
      "                                          sum_sq        df            F  \\\n",
      "C(Skintone, Treatment(reference=4))   372.989025       8.0  7857.983610   \n",
      "C(Haircolor, Treatment(reference=3))    0.865501       5.0    29.174449   \n",
      "C(Eyecolor, Treatment(reference=1))     0.868592       4.0    36.598279   \n",
      "Residual                              655.805595  110530.0          NaN   \n",
      "\n",
      "                                            PR(>F)  \n",
      "C(Skintone, Treatment(reference=4))   0.000000e+00  \n",
      "C(Haircolor, Treatment(reference=3))  1.056725e-29  \n",
      "C(Eyecolor, Treatment(reference=1))   1.264702e-30  \n",
      "Residual                                       NaN  \n"
     ]
    }
   ],
   "source": [
    "# foundation\n",
    "print('LM and ANOVA - Foundation Luminosity ~ skintone + hair + eyecolors')\n",
    "model_lum_f = ols('Luminosity ~ 1 + C(Skintone,Treatment(reference=4)) + C(Haircolor,Treatment(reference=3)) + C(Eyecolor,Treatment(reference=1))', \n",
    "                  data = df[df.Category == 'foundation-makeup']).fit()\n",
    "print(model_lum_f.summary())\n",
    "print('\\n')\n",
    "aov_table_lum_f = sm.stats.anova_lm(model_lum_f, typ=2)\n",
    "print(aov_table_lum_f)"
   ]
  },
  {
   "cell_type": "code",
   "execution_count": 5,
   "metadata": {},
   "outputs": [
    {
     "name": "stdout",
     "output_type": "stream",
     "text": [
      "LM and ANOVA - Lipstick Luminosity ~ skintone + hair + eyecolors\n",
      "                            OLS Regression Results                            \n",
      "==============================================================================\n",
      "Dep. Variable:             Luminosity   R-squared:                       0.038\n",
      "Model:                            OLS   Adj. R-squared:                  0.038\n",
      "Method:                 Least Squares   F-statistic:                     143.0\n",
      "Date:                Fri, 18 Dec 2020   Prob (F-statistic):               0.00\n",
      "Time:                        22:33:29   Log-Likelihood:                 35286.\n",
      "No. Observations:               61722   AIC:                        -7.054e+04\n",
      "Df Residuals:                   61704   BIC:                        -7.037e+04\n",
      "Df Model:                          17                                         \n",
      "Covariance Type:            nonrobust                                         \n",
      "====================================================================================================================\n",
      "                                                       coef    std err          t      P>|t|      [0.025      0.975]\n",
      "--------------------------------------------------------------------------------------------------------------------\n",
      "Intercept                                            0.4525      0.001    323.739      0.000       0.450       0.455\n",
      "C(Skintone, Treatment(reference=4))[T.dark]         -0.0827      0.003    -24.630      0.000      -0.089      -0.076\n",
      "C(Skintone, Treatment(reference=4))[T.deep]         -0.0603      0.003    -21.720      0.000      -0.066      -0.055\n",
      "C(Skintone, Treatment(reference=4))[T.ebony]        -0.0883      0.006    -14.520      0.000      -0.100      -0.076\n",
      "C(Skintone, Treatment(reference=4))[T.fair]         -0.0084      0.002     -5.117      0.000      -0.012      -0.005\n",
      "C(Skintone, Treatment(reference=4))[T.medium]       -0.0057      0.002     -3.456      0.001      -0.009      -0.002\n",
      "C(Skintone, Treatment(reference=4))[T.olive]        -0.0186      0.002     -8.093      0.000      -0.023      -0.014\n",
      "C(Skintone, Treatment(reference=4))[T.porcelain]    -0.0211      0.002     -8.960      0.000      -0.026      -0.016\n",
      "C(Skintone, Treatment(reference=4))[T.tan]          -0.0212      0.002     -9.226      0.000      -0.026      -0.017\n",
      "C(Haircolor, Treatment(reference=3))[T.auburn]      -0.0056      0.003     -1.983      0.047      -0.011   -6.46e-05\n",
      "C(Haircolor, Treatment(reference=3))[T.black]       -0.0142      0.002     -9.467      0.000      -0.017      -0.011\n",
      "C(Haircolor, Treatment(reference=3))[T.blonde]       0.0111      0.002      7.000      0.000       0.008       0.014\n",
      "C(Haircolor, Treatment(reference=3))[T.gray]         0.0165      0.006      2.885      0.004       0.005       0.028\n",
      "C(Haircolor, Treatment(reference=3))[T.red]         -0.0077      0.003     -2.500      0.012      -0.014      -0.002\n",
      "C(Eyecolor, Treatment(reference=1))[T.blue]          0.0146      0.002      8.079      0.000       0.011       0.018\n",
      "C(Eyecolor, Treatment(reference=1))[T.gray]          0.0102      0.007      1.474      0.141      -0.003       0.024\n",
      "C(Eyecolor, Treatment(reference=1))[T.green]         0.0125      0.002      6.662      0.000       0.009       0.016\n",
      "C(Eyecolor, Treatment(reference=1))[T.hazel]         0.0082      0.002      4.585      0.000       0.005       0.012\n",
      "==============================================================================\n",
      "Omnibus:                      516.820   Durbin-Watson:                   0.892\n",
      "Prob(Omnibus):                  0.000   Jarque-Bera (JB):              434.196\n",
      "Skew:                           0.144   Prob(JB):                     5.19e-95\n",
      "Kurtosis:                       2.707   Cond. No.                         14.3\n",
      "==============================================================================\n",
      "\n",
      "Warnings:\n",
      "[1] Standard Errors assume that the covariance matrix of the errors is correctly specified.\n",
      "\n",
      "\n",
      "                                           sum_sq       df           F  \\\n",
      "C(Skintone, Treatment(reference=4))     20.809561      8.0  139.342813   \n",
      "C(Haircolor, Treatment(reference=3))     3.548250      5.0   38.015070   \n",
      "C(Eyecolor, Treatment(reference=1))      1.532880      4.0   20.528617   \n",
      "Residual                              1151.865267  61704.0         NaN   \n",
      "\n",
      "                                             PR(>F)  \n",
      "C(Skintone, Treatment(reference=4))   3.441042e-233  \n",
      "C(Haircolor, Treatment(reference=3))   4.336801e-39  \n",
      "C(Eyecolor, Treatment(reference=1))    6.370896e-17  \n",
      "Residual                                        NaN  \n"
     ]
    }
   ],
   "source": [
    "# lipstick\n",
    "print('LM and ANOVA - Lipstick Luminosity ~ skintone + hair + eyecolors')\n",
    "model_lum_l = ols('Luminosity ~ 1 + C(Skintone,Treatment(reference=4)) + C(Haircolor,Treatment(reference=3)) + C(Eyecolor,Treatment(reference=1))', data = df[df.Category == 'lipstick']).fit()\n",
    "print(model_lum_l.summary())\n",
    "print('\\n')\n",
    "aov_table_lum_l = sm.stats.anova_lm(model_lum_l, typ=2)\n",
    "print(aov_table_lum_l)"
   ]
  },
  {
   "cell_type": "markdown",
   "metadata": {},
   "source": [
    "### Statistical analysis - MANOVA R G B\n",
    "MANOVA - R + G + B ~ skintone + hair + eyecolors"
   ]
  },
  {
   "cell_type": "code",
   "execution_count": 6,
   "metadata": {},
   "outputs": [
    {
     "name": "stdout",
     "output_type": "stream",
     "text": [
      "\n",
      "\n",
      "MANOVA - Foundation R + G + B ~ skintone + hair + eyecolors\n",
      "                     Multivariate linear model\n",
      "===================================================================\n",
      "                                                                   \n",
      "-------------------------------------------------------------------\n",
      "       Intercept        Value  Num DF    Den DF    F Value   Pr > F\n",
      "-------------------------------------------------------------------\n",
      "          Wilks' lambda 0.4040 3.0000 110528.0000 54347.4558 0.0000\n",
      "         Pillai's trace 0.5960 3.0000 110528.0000 54347.4558 0.0000\n",
      " Hotelling-Lawley trace 1.4751 3.0000 110528.0000 54347.4558 0.0000\n",
      "    Roy's greatest root 1.4751 3.0000 110528.0000 54347.4558 0.0000\n",
      "-------------------------------------------------------------------\n",
      "                                                                   \n",
      "-------------------------------------------------------------------\n",
      "        Skintone        Value   Num DF    Den DF    F Value  Pr > F\n",
      "-------------------------------------------------------------------\n",
      "          Wilks' lambda 0.5824 24.0000 320565.4287 2736.9026 0.0000\n",
      "         Pillai's trace 0.4437 24.0000 331590.0000 2397.8777 0.0000\n",
      " Hotelling-Lawley trace 0.6724 24.0000 239470.1390 3096.7237 0.0000\n",
      "    Roy's greatest root 0.5982  8.0000 110530.0000 8264.7338 0.0000\n",
      "-------------------------------------------------------------------\n",
      "                                                                   \n",
      "-------------------------------------------------------------------\n",
      "         Haircolor        Value   Num DF    Den DF   F Value Pr > F\n",
      "-------------------------------------------------------------------\n",
      "            Wilks' lambda 0.9969 15.0000 305119.5399 23.1727 0.0000\n",
      "           Pillai's trace 0.0031 15.0000 331590.0000 23.1525 0.0000\n",
      "   Hotelling-Lawley trace 0.0031 15.0000 208769.8766 23.1910 0.0000\n",
      "      Roy's greatest root 0.0029  5.0000 110530.0000 64.7798 0.0000\n",
      "-------------------------------------------------------------------\n",
      "                                                                   \n",
      "-------------------------------------------------------------------\n",
      "         Eyecolor        Value   Num DF    Den DF   F Value  Pr > F\n",
      "-------------------------------------------------------------------\n",
      "           Wilks' lambda 0.9953 12.0000 292429.8924  43.7470 0.0000\n",
      "          Pillai's trace 0.0047 12.0000 331590.0000  43.6777 0.0000\n",
      "  Hotelling-Lawley trace 0.0048 12.0000 193419.6875  43.8075 0.0000\n",
      "     Roy's greatest root 0.0047  4.0000 110530.0000 129.0177 0.0000\n",
      "===================================================================\n",
      "\n"
     ]
    }
   ],
   "source": [
    "# foundation\n",
    "print('\\n\\nMANOVA - Foundation R + G + B ~ skintone + hair + eyecolors')\n",
    "maov_lum_f = MANOVA.from_formula('R + G + B ~ 1 + Skintone + Haircolor + Eyecolor', data=df[df.Category == 'foundation-makeup'])\n",
    "print(maov_lum_f.mv_test())\n",
    "# everything is significant since there's so much data. Need to do linear regression to observerve more. "
   ]
  },
  {
   "cell_type": "markdown",
   "metadata": {},
   "source": [
    "## Statistical analysis - LM for R G B\n",
    "R or G or B ~ skintone + hair + eyecolors"
   ]
  },
  {
   "cell_type": "markdown",
   "metadata": {},
   "source": [
    "<b>Foundation</b>"
   ]
  },
  {
   "cell_type": "code",
   "execution_count": 7,
   "metadata": {},
   "outputs": [
    {
     "name": "stdout",
     "output_type": "stream",
     "text": [
      "LM and ANOVA - Foundation R ~ skintone + hair + eyecolors\n",
      "                            OLS Regression Results                            \n",
      "==============================================================================\n",
      "Dep. Variable:                      R   R-squared:                       0.362\n",
      "Model:                            OLS   Adj. R-squared:                  0.362\n",
      "Method:                 Least Squares   F-statistic:                     3689.\n",
      "Date:                Fri, 18 Dec 2020   Prob (F-statistic):               0.00\n",
      "Time:                        22:33:37   Log-Likelihood:            -4.8250e+05\n",
      "No. Observations:              110548   AIC:                         9.650e+05\n",
      "Df Residuals:                  110530   BIC:                         9.652e+05\n",
      "Df Model:                          17                                         \n",
      "Covariance Type:            nonrobust                                         \n",
      "====================================================================================================================\n",
      "                                                       coef    std err          t      P>|t|      [0.025      0.975]\n",
      "--------------------------------------------------------------------------------------------------------------------\n",
      "Intercept                                          226.1915      0.145   1563.270      0.000     225.908     226.475\n",
      "C(Skintone, Treatment(reference=4))[T.dark]        -53.4518      0.349   -153.230      0.000     -54.136     -52.768\n",
      "C(Skintone, Treatment(reference=4))[T.deep]        -31.4777      0.287   -109.697      0.000     -32.040     -30.915\n",
      "C(Skintone, Treatment(reference=4))[T.ebony]       -70.3403      0.607   -115.872      0.000     -71.530     -69.150\n",
      "C(Skintone, Treatment(reference=4))[T.fair]          3.0190      0.176     17.119      0.000       2.673       3.365\n",
      "C(Skintone, Treatment(reference=4))[T.medium]       -5.9928      0.168    -35.762      0.000      -6.321      -5.664\n",
      "C(Skintone, Treatment(reference=4))[T.olive]       -12.8880      0.241    -53.438      0.000     -13.361     -12.415\n",
      "C(Skintone, Treatment(reference=4))[T.porcelain]     7.9735      0.256     31.188      0.000       7.472       8.475\n",
      "C(Skintone, Treatment(reference=4))[T.tan]         -12.2364      0.234    -52.225      0.000     -12.696     -11.777\n",
      "C(Haircolor, Treatment(reference=3))[T.auburn]      -0.1878      0.321     -0.585      0.559      -0.817       0.442\n",
      "C(Haircolor, Treatment(reference=3))[T.black]       -1.1794      0.160     -7.386      0.000      -1.492      -0.866\n",
      "C(Haircolor, Treatment(reference=3))[T.blonde]      -0.2411      0.160     -1.507      0.132      -0.555       0.072\n",
      "C(Haircolor, Treatment(reference=3))[T.gray]        -0.4573      0.763     -0.599      0.549      -1.954       1.039\n",
      "C(Haircolor, Treatment(reference=3))[T.red]          0.6440      0.351      1.832      0.067      -0.045       1.333\n",
      "C(Eyecolor, Treatment(reference=1))[T.blue]          0.9099      0.186      4.904      0.000       0.546       1.274\n",
      "C(Eyecolor, Treatment(reference=1))[T.gray]          2.3202      0.761      3.050      0.002       0.829       3.811\n",
      "C(Eyecolor, Treatment(reference=1))[T.green]         0.7751      0.195      3.969      0.000       0.392       1.158\n",
      "C(Eyecolor, Treatment(reference=1))[T.hazel]         0.6358      0.188      3.384      0.001       0.268       1.004\n",
      "==============================================================================\n",
      "Omnibus:                    10139.410   Durbin-Watson:                   0.877\n",
      "Prob(Omnibus):                  0.000   Jarque-Bera (JB):            16422.434\n",
      "Skew:                          -0.681   Prob(JB):                         0.00\n",
      "Kurtosis:                       4.308   Cond. No.                         15.3\n",
      "==============================================================================\n",
      "\n",
      "Warnings:\n",
      "[1] Standard Errors assume that the covariance matrix of the errors is correctly specified.\n"
     ]
    }
   ],
   "source": [
    "print('LM and ANOVA - Foundation R ~ skintone + hair + eyecolors')\n",
    "model_lum_f = ols('R ~ 1 + C(Skintone,Treatment(reference=4)) + C(Haircolor,Treatment(reference=3)) + C(Eyecolor,Treatment(reference=1))', \n",
    "                  data = df[df.Category == 'foundation-makeup']).fit()\n",
    "print(model_lum_f.summary())"
   ]
  },
  {
   "cell_type": "code",
   "execution_count": 8,
   "metadata": {},
   "outputs": [
    {
     "name": "stdout",
     "output_type": "stream",
     "text": [
      "LM and ANOVA - Foundation G ~ skintone + hair + eyecolors\n",
      "                            OLS Regression Results                            \n",
      "==============================================================================\n",
      "Dep. Variable:                      G   R-squared:                       0.468\n",
      "Model:                            OLS   Adj. R-squared:                  0.468\n",
      "Method:                 Least Squares   F-statistic:                     5715.\n",
      "Date:                Fri, 18 Dec 2020   Prob (F-statistic):               0.00\n",
      "Time:                        22:33:40   Log-Likelihood:            -4.9137e+05\n",
      "No. Observations:              110548   AIC:                         9.828e+05\n",
      "Df Residuals:                  110530   BIC:                         9.830e+05\n",
      "Df Model:                          17                                         \n",
      "Covariance Type:            nonrobust                                         \n",
      "====================================================================================================================\n",
      "                                                       coef    std err          t      P>|t|      [0.025      0.975]\n",
      "--------------------------------------------------------------------------------------------------------------------\n",
      "Intercept                                          185.9099      0.157   1185.749      0.000     185.603     186.217\n",
      "C(Skintone, Treatment(reference=4))[T.dark]        -67.1863      0.378   -177.744      0.000     -67.927     -66.445\n",
      "C(Skintone, Treatment(reference=4))[T.deep]        -45.1875      0.311   -145.325      0.000     -45.797     -44.578\n",
      "C(Skintone, Treatment(reference=4))[T.ebony]       -80.1572      0.658   -121.857      0.000     -81.446     -78.868\n",
      "C(Skintone, Treatment(reference=4))[T.fair]          5.3958      0.191     28.236      0.000       5.021       5.770\n",
      "C(Skintone, Treatment(reference=4))[T.medium]       -9.2904      0.182    -51.163      0.000      -9.646      -8.935\n",
      "C(Skintone, Treatment(reference=4))[T.olive]       -19.0383      0.261    -72.850      0.000     -19.551     -18.526\n",
      "C(Skintone, Treatment(reference=4))[T.porcelain]    13.6400      0.277     49.236      0.000      13.097      14.183\n",
      "C(Skintone, Treatment(reference=4))[T.tan]         -19.0187      0.254    -74.910      0.000     -19.516     -18.521\n",
      "C(Haircolor, Treatment(reference=3))[T.auburn]      -0.1233      0.348     -0.354      0.723      -0.806       0.559\n",
      "C(Haircolor, Treatment(reference=3))[T.black]       -1.9879      0.173    -11.489      0.000      -2.327      -1.649\n",
      "C(Haircolor, Treatment(reference=3))[T.blonde]      -0.1534      0.173     -0.885      0.376      -0.493       0.186\n",
      "C(Haircolor, Treatment(reference=3))[T.gray]        -0.3896      0.827     -0.471      0.638      -2.011       1.232\n",
      "C(Haircolor, Treatment(reference=3))[T.red]          1.2809      0.381      3.364      0.001       0.535       2.027\n",
      "C(Eyecolor, Treatment(reference=1))[T.blue]          2.1041      0.201     10.465      0.000       1.710       2.498\n",
      "C(Eyecolor, Treatment(reference=1))[T.gray]          3.8452      0.824      4.665      0.000       2.229       5.461\n",
      "C(Eyecolor, Treatment(reference=1))[T.green]         1.7617      0.212      8.324      0.000       1.347       2.176\n",
      "C(Eyecolor, Treatment(reference=1))[T.hazel]         1.6182      0.204      7.948      0.000       1.219       2.017\n",
      "==============================================================================\n",
      "Omnibus:                     3076.367   Durbin-Watson:                   1.070\n",
      "Prob(Omnibus):                  0.000   Jarque-Bera (JB):             4260.935\n",
      "Skew:                          -0.313   Prob(JB):                         0.00\n",
      "Kurtosis:                       3.730   Cond. No.                         15.3\n",
      "==============================================================================\n",
      "\n",
      "Warnings:\n",
      "[1] Standard Errors assume that the covariance matrix of the errors is correctly specified.\n"
     ]
    }
   ],
   "source": [
    "print('LM and ANOVA - Foundation G ~ skintone + hair + eyecolors')\n",
    "model_lum_f = ols('G ~ 1 + C(Skintone,Treatment(reference=4)) + C(Haircolor,Treatment(reference=3)) + C(Eyecolor,Treatment(reference=1))', \n",
    "                  data = df[df.Category == 'foundation-makeup']).fit()\n",
    "print(model_lum_f.summary())"
   ]
  },
  {
   "cell_type": "code",
   "execution_count": 9,
   "metadata": {},
   "outputs": [
    {
     "name": "stdout",
     "output_type": "stream",
     "text": [
      "LM and ANOVA - Foundation B ~ skintone + hair + eyecolors\n",
      "                            OLS Regression Results                            \n",
      "==============================================================================\n",
      "Dep. Variable:                      B   R-squared:                       0.467\n",
      "Model:                            OLS   Adj. R-squared:                  0.467\n",
      "Method:                 Least Squares   F-statistic:                     5701.\n",
      "Date:                Fri, 18 Dec 2020   Prob (F-statistic):               0.00\n",
      "Time:                        22:33:43   Log-Likelihood:            -5.0851e+05\n",
      "No. Observations:              110548   AIC:                         1.017e+06\n",
      "Df Residuals:                  110530   BIC:                         1.017e+06\n",
      "Df Model:                          17                                         \n",
      "Covariance Type:            nonrobust                                         \n",
      "====================================================================================================================\n",
      "                                                       coef    std err          t      P>|t|      [0.025      0.975]\n",
      "--------------------------------------------------------------------------------------------------------------------\n",
      "Intercept                                          155.0573      0.183    846.953      0.000     154.698     155.416\n",
      "C(Skintone, Treatment(reference=4))[T.dark]        -70.2178      0.441   -159.088      0.000     -71.083     -69.353\n",
      "C(Skintone, Treatment(reference=4))[T.deep]        -53.2098      0.363   -146.552      0.000     -53.921     -52.498\n",
      "C(Skintone, Treatment(reference=4))[T.ebony]       -76.6856      0.768    -99.838      0.000     -78.191     -75.180\n",
      "C(Skintone, Treatment(reference=4))[T.fair]          7.7022      0.223     34.517      0.000       7.265       8.140\n",
      "C(Skintone, Treatment(reference=4))[T.medium]      -12.1452      0.212    -57.280      0.000     -12.561     -11.730\n",
      "C(Skintone, Treatment(reference=4))[T.olive]       -24.9121      0.305    -81.636      0.000     -25.510     -24.314\n",
      "C(Skintone, Treatment(reference=4))[T.porcelain]    19.8155      0.323     61.256      0.000      19.181      20.449\n",
      "C(Skintone, Treatment(reference=4))[T.tan]         -24.8359      0.296    -83.775      0.000     -25.417     -24.255\n",
      "C(Haircolor, Treatment(reference=3))[T.auburn]       0.5032      0.406      1.238      0.216      -0.293       1.300\n",
      "C(Haircolor, Treatment(reference=3))[T.black]       -2.9427      0.202    -14.566      0.000      -3.339      -2.547\n",
      "C(Haircolor, Treatment(reference=3))[T.blonde]      -0.1022      0.202     -0.505      0.614      -0.499       0.295\n",
      "C(Haircolor, Treatment(reference=3))[T.gray]         0.4793      0.966      0.496      0.620      -1.414       2.372\n",
      "C(Haircolor, Treatment(reference=3))[T.red]          2.6712      0.445      6.007      0.000       1.800       3.543\n",
      "C(Eyecolor, Treatment(reference=1))[T.blue]          3.8904      0.235     16.572      0.000       3.430       4.351\n",
      "C(Eyecolor, Treatment(reference=1))[T.gray]          5.2187      0.963      5.422      0.000       3.332       7.105\n",
      "C(Eyecolor, Treatment(reference=1))[T.green]         3.1839      0.247     12.884      0.000       2.700       3.668\n",
      "C(Eyecolor, Treatment(reference=1))[T.hazel]         2.8303      0.238     11.905      0.000       2.364       3.296\n",
      "==============================================================================\n",
      "Omnibus:                      631.490   Durbin-Watson:                   1.125\n",
      "Prob(Omnibus):                  0.000   Jarque-Bera (JB):              882.620\n",
      "Skew:                          -0.062   Prob(JB):                    2.19e-192\n",
      "Kurtosis:                       3.420   Cond. No.                         15.3\n",
      "==============================================================================\n",
      "\n",
      "Warnings:\n",
      "[1] Standard Errors assume that the covariance matrix of the errors is correctly specified.\n"
     ]
    }
   ],
   "source": [
    "print('LM and ANOVA - Foundation B ~ skintone + hair + eyecolors')\n",
    "model_lum_f = ols('B ~ 1 + C(Skintone,Treatment(reference=4)) + C(Haircolor,Treatment(reference=3)) + C(Eyecolor,Treatment(reference=1))', \n",
    "                  data = df[df.Category == 'foundation-makeup']).fit()\n",
    "print(model_lum_f.summary())"
   ]
  },
  {
   "cell_type": "markdown",
   "metadata": {},
   "source": [
    "<b>Lipstick</b>"
   ]
  },
  {
   "cell_type": "code",
   "execution_count": 10,
   "metadata": {},
   "outputs": [
    {
     "name": "stdout",
     "output_type": "stream",
     "text": [
      "LM and ANOVA - Lipstick R ~ skintone + hair + eyecolors\n",
      "                            OLS Regression Results                            \n",
      "==============================================================================\n",
      "Dep. Variable:                      R   R-squared:                       0.037\n",
      "Model:                            OLS   Adj. R-squared:                  0.037\n",
      "Method:                 Least Squares   F-statistic:                     139.0\n",
      "Date:                Fri, 18 Dec 2020   Prob (F-statistic):               0.00\n",
      "Time:                        22:33:49   Log-Likelihood:            -3.1112e+05\n",
      "No. Observations:               61722   AIC:                         6.223e+05\n",
      "Df Residuals:                   61704   BIC:                         6.224e+05\n",
      "Df Model:                          17                                         \n",
      "Covariance Type:            nonrobust                                         \n",
      "====================================================================================================================\n",
      "                                                       coef    std err          t      P>|t|      [0.025      0.975]\n",
      "--------------------------------------------------------------------------------------------------------------------\n",
      "Intercept                                          180.9564      0.383    472.912      0.000     180.206     181.706\n",
      "C(Skintone, Treatment(reference=4))[T.dark]        -25.9328      0.920    -28.197      0.000     -27.735     -24.130\n",
      "C(Skintone, Treatment(reference=4))[T.deep]        -17.7365      0.760    -23.343      0.000     -19.226     -16.247\n",
      "C(Skintone, Treatment(reference=4))[T.ebony]       -28.8361      1.664    -17.328      0.000     -32.098     -25.574\n",
      "C(Skintone, Treatment(reference=4))[T.fair]         -1.1738      0.451     -2.600      0.009      -2.059      -0.289\n",
      "C(Skintone, Treatment(reference=4))[T.medium]       -1.3006      0.452     -2.878      0.004      -2.186      -0.415\n",
      "C(Skintone, Treatment(reference=4))[T.olive]        -5.7908      0.630     -9.191      0.000      -7.026      -4.556\n",
      "C(Skintone, Treatment(reference=4))[T.porcelain]    -5.6296      0.645     -8.726      0.000      -6.894      -4.365\n",
      "C(Skintone, Treatment(reference=4))[T.tan]          -5.1062      0.629     -8.122      0.000      -6.338      -3.874\n",
      "C(Haircolor, Treatment(reference=3))[T.auburn]      -1.4579      0.769     -1.896      0.058      -2.965       0.050\n",
      "C(Haircolor, Treatment(reference=3))[T.black]       -2.7009      0.411     -6.570      0.000      -3.507      -1.895\n",
      "C(Haircolor, Treatment(reference=3))[T.blonde]       3.5210      0.434      8.114      0.000       2.670       4.371\n",
      "C(Haircolor, Treatment(reference=3))[T.gray]        -0.2298      1.567     -0.147      0.883      -3.302       2.842\n",
      "C(Haircolor, Treatment(reference=3))[T.red]         -2.8851      0.845     -3.415      0.001      -4.541      -1.229\n",
      "C(Eyecolor, Treatment(reference=1))[T.blue]          0.9458      0.495      1.911      0.056      -0.024       1.916\n",
      "C(Eyecolor, Treatment(reference=1))[T.gray]         -1.6385      1.895     -0.864      0.387      -5.353       2.076\n",
      "C(Eyecolor, Treatment(reference=1))[T.green]         1.2103      0.513      2.357      0.018       0.204       2.217\n",
      "C(Eyecolor, Treatment(reference=1))[T.hazel]         0.1521      0.491      0.310      0.757      -0.810       1.114\n",
      "==============================================================================\n",
      "Omnibus:                     7763.940   Durbin-Watson:                   1.281\n",
      "Prob(Omnibus):                  0.000   Jarque-Bera (JB):            14316.404\n",
      "Skew:                          -0.825   Prob(JB):                         0.00\n",
      "Kurtosis:                       4.686   Cond. No.                         14.3\n",
      "==============================================================================\n",
      "\n",
      "Warnings:\n",
      "[1] Standard Errors assume that the covariance matrix of the errors is correctly specified.\n"
     ]
    }
   ],
   "source": [
    "print('LM and ANOVA - Lipstick R ~ skintone + hair + eyecolors')\n",
    "model_lum_l = ols('R ~ 1 + C(Skintone,Treatment(reference=4)) + C(Haircolor,Treatment(reference=3)) + C(Eyecolor,Treatment(reference=1))', \n",
    "                  data = df[df.Category == 'lipstick']).fit()\n",
    "print(model_lum_l.summary())"
   ]
  },
  {
   "cell_type": "code",
   "execution_count": 11,
   "metadata": {},
   "outputs": [
    {
     "name": "stdout",
     "output_type": "stream",
     "text": [
      "LM and ANOVA - Lipstick G ~ skintone + hair + eyecolors\n",
      "                            OLS Regression Results                            \n",
      "==============================================================================\n",
      "Dep. Variable:                      G   R-squared:                       0.028\n",
      "Model:                            OLS   Adj. R-squared:                  0.028\n",
      "Method:                 Least Squares   F-statistic:                     103.7\n",
      "Date:                Fri, 18 Dec 2020   Prob (F-statistic):               0.00\n",
      "Time:                        22:33:51   Log-Likelihood:            -3.1736e+05\n",
      "No. Observations:               61722   AIC:                         6.348e+05\n",
      "Df Residuals:                   61704   BIC:                         6.349e+05\n",
      "Df Model:                          17                                         \n",
      "Covariance Type:            nonrobust                                         \n",
      "====================================================================================================================\n",
      "                                                       coef    std err          t      P>|t|      [0.025      0.975]\n",
      "--------------------------------------------------------------------------------------------------------------------\n",
      "Intercept                                           86.5243      0.423    204.368      0.000      85.695      87.354\n",
      "C(Skintone, Treatment(reference=4))[T.dark]        -19.6721      1.018    -19.332      0.000     -21.667     -17.678\n",
      "C(Skintone, Treatment(reference=4))[T.deep]        -14.8791      0.841    -17.698      0.000     -16.527     -13.231\n",
      "C(Skintone, Treatment(reference=4))[T.ebony]       -21.0616      1.841    -11.439      0.000     -24.670     -17.453\n",
      "C(Skintone, Treatment(reference=4))[T.fair]         -2.7024      0.500     -5.410      0.000      -3.682      -1.723\n",
      "C(Skintone, Treatment(reference=4))[T.medium]       -1.5203      0.500     -3.040      0.002      -2.500      -0.540\n",
      "C(Skintone, Treatment(reference=4))[T.olive]        -4.3551      0.697     -6.248      0.000      -5.721      -2.989\n",
      "C(Skintone, Treatment(reference=4))[T.porcelain]    -5.5545      0.714     -7.781      0.000      -6.954      -4.155\n",
      "C(Skintone, Treatment(reference=4))[T.tan]          -5.5606      0.696     -7.994      0.000      -6.924      -4.197\n",
      "C(Haircolor, Treatment(reference=3))[T.auburn]      -1.5254      0.851     -1.793      0.073      -3.193       0.143\n",
      "C(Haircolor, Treatment(reference=3))[T.black]       -4.0615      0.455     -8.929      0.000      -4.953      -3.170\n",
      "C(Haircolor, Treatment(reference=3))[T.blonde]       2.4513      0.480      5.106      0.000       1.510       3.392\n",
      "C(Haircolor, Treatment(reference=3))[T.gray]         6.0252      1.734      3.475      0.001       2.626       9.424\n",
      "C(Haircolor, Treatment(reference=3))[T.red]         -1.6830      0.935     -1.801      0.072      -3.515       0.149\n",
      "C(Eyecolor, Treatment(reference=1))[T.blue]          4.9530      0.548      9.044      0.000       3.880       6.026\n",
      "C(Eyecolor, Treatment(reference=1))[T.gray]          4.7602      2.097      2.270      0.023       0.650       8.871\n",
      "C(Eyecolor, Treatment(reference=1))[T.green]         4.0546      0.568      7.137      0.000       2.941       5.168\n",
      "C(Eyecolor, Treatment(reference=1))[T.hazel]         2.9711      0.543      5.471      0.000       1.907       4.035\n",
      "==============================================================================\n",
      "Omnibus:                      661.248   Durbin-Watson:                   0.904\n",
      "Prob(Omnibus):                  0.000   Jarque-Bera (JB):              473.830\n",
      "Skew:                           0.108   Prob(JB):                    1.29e-103\n",
      "Kurtosis:                       2.629   Cond. No.                         14.3\n",
      "==============================================================================\n",
      "\n",
      "Warnings:\n",
      "[1] Standard Errors assume that the covariance matrix of the errors is correctly specified.\n"
     ]
    }
   ],
   "source": [
    "print('LM and ANOVA - Lipstick G ~ skintone + hair + eyecolors')\n",
    "model_lum_l = ols('G ~ 1 + C(Skintone,Treatment(reference=4)) + C(Haircolor,Treatment(reference=3)) + C(Eyecolor,Treatment(reference=1))', \n",
    "                  data = df[df.Category == 'lipstick']).fit()\n",
    "print(model_lum_l.summary())"
   ]
  },
  {
   "cell_type": "code",
   "execution_count": 12,
   "metadata": {},
   "outputs": [
    {
     "name": "stdout",
     "output_type": "stream",
     "text": [
      "LM and ANOVA - Lipstick B ~ skintone + hair + eyecolors\n",
      "                            OLS Regression Results                            \n",
      "==============================================================================\n",
      "Dep. Variable:                      B   R-squared:                       0.027\n",
      "Model:                            OLS   Adj. R-squared:                  0.027\n",
      "Method:                 Least Squares   F-statistic:                     101.4\n",
      "Date:                Fri, 18 Dec 2020   Prob (F-statistic):               0.00\n",
      "Time:                        22:33:53   Log-Likelihood:            -3.1218e+05\n",
      "No. Observations:               61722   AIC:                         6.244e+05\n",
      "Df Residuals:                   61704   BIC:                         6.246e+05\n",
      "Df Model:                          17                                         \n",
      "Covariance Type:            nonrobust                                         \n",
      "====================================================================================================================\n",
      "                                                       coef    std err          t      P>|t|      [0.025      0.975]\n",
      "--------------------------------------------------------------------------------------------------------------------\n",
      "Intercept                                           95.9195      0.389    246.400      0.000      95.156      96.682\n",
      "C(Skintone, Treatment(reference=4))[T.dark]        -16.4881      0.936    -17.622      0.000     -18.322     -14.654\n",
      "C(Skintone, Treatment(reference=4))[T.deep]        -12.2350      0.773    -15.827      0.000     -13.750     -10.720\n",
      "C(Skintone, Treatment(reference=4))[T.ebony]       -14.1086      1.693     -8.334      0.000     -17.427     -10.790\n",
      "C(Skintone, Treatment(reference=4))[T.fair]         -1.9535      0.459     -4.253      0.000      -2.854      -1.053\n",
      "C(Skintone, Treatment(reference=4))[T.medium]       -1.5717      0.460     -3.418      0.001      -2.473      -0.671\n",
      "C(Skintone, Treatment(reference=4))[T.olive]        -4.2070      0.641     -6.564      0.000      -5.463      -2.951\n",
      "C(Skintone, Treatment(reference=4))[T.porcelain]    -4.0446      0.656     -6.162      0.000      -5.331      -2.758\n",
      "C(Skintone, Treatment(reference=4))[T.tan]          -5.5487      0.640     -8.676      0.000      -6.802      -4.295\n",
      "C(Haircolor, Treatment(reference=3))[T.auburn]      -0.8311      0.782     -1.062      0.288      -2.365       0.702\n",
      "C(Haircolor, Treatment(reference=3))[T.black]       -3.9264      0.418     -9.388      0.000      -4.746      -3.107\n",
      "C(Haircolor, Treatment(reference=3))[T.blonde]       3.0560      0.441      6.923      0.000       2.191       3.921\n",
      "C(Haircolor, Treatment(reference=3))[T.gray]         6.6691      1.594      4.183      0.000       3.544       9.794\n",
      "C(Haircolor, Treatment(reference=3))[T.red]         -1.0898      0.859     -1.268      0.205      -2.774       0.595\n",
      "C(Eyecolor, Treatment(reference=1))[T.blue]          4.8162      0.504      9.564      0.000       3.829       5.803\n",
      "C(Eyecolor, Treatment(reference=1))[T.gray]          2.6960      1.928      1.398      0.162      -1.083       6.475\n",
      "C(Eyecolor, Treatment(reference=1))[T.green]         4.0040      0.522      7.665      0.000       2.980       5.028\n",
      "C(Eyecolor, Treatment(reference=1))[T.hazel]         2.7603      0.499      5.528      0.000       1.782       3.739\n",
      "==============================================================================\n",
      "Omnibus:                     1080.491   Durbin-Watson:                   0.884\n",
      "Prob(Omnibus):                  0.000   Jarque-Bera (JB):             1099.767\n",
      "Skew:                           0.311   Prob(JB):                    1.54e-239\n",
      "Kurtosis:                       2.798   Cond. No.                         14.3\n",
      "==============================================================================\n",
      "\n",
      "Warnings:\n",
      "[1] Standard Errors assume that the covariance matrix of the errors is correctly specified.\n"
     ]
    }
   ],
   "source": [
    "print('LM and ANOVA - Lipstick B ~ skintone + hair + eyecolors')\n",
    "model_lum_l = ols('B ~ 1 + C(Skintone,Treatment(reference=4)) + C(Haircolor,Treatment(reference=3)) + C(Eyecolor,Treatment(reference=1))', \n",
    "                  data = df[df.Category == 'lipstick']).fit()\n",
    "print(model_lum_l.summary())"
   ]
  },
  {
   "cell_type": "markdown",
   "metadata": {},
   "source": [
    "---\n",
    "## Aggregate Analysis\n",
    "\n",
    "### Luminosity"
   ]
  },
  {
   "cell_type": "code",
   "execution_count": 17,
   "metadata": {},
   "outputs": [
    {
     "data": {
      "image/png": "[encoded data removed]",
      "text/plain": [
       "<Figure size 432x288 with 1 Axes>"
      ]
     },
     "metadata": {
      "needs_background": "light"
     },
     "output_type": "display_data"
    },
    {
     "name": "stdout",
     "output_type": "stream",
     "text": [
      "[0.38613813]\n",
      "[0.15235066]\n",
      "                            OLS Regression Results                            \n",
      "==============================================================================\n",
      "Dep. Variable:             Luminosity   R-squared:                       0.953\n",
      "Model:                            OLS   Adj. R-squared:                  0.946\n",
      "Method:                 Least Squares   F-statistic:                     141.7\n",
      "Date:                Fri, 18 Dec 2020   Prob (F-statistic):           6.71e-06\n",
      "Time:                        22:40:15   Log-Likelihood:                 28.510\n",
      "No. Observations:                   9   AIC:                            -53.02\n",
      "Df Residuals:                       7   BIC:                            -52.63\n",
      "Df Model:                           1                                         \n",
      "Covariance Type:            nonrobust                                         \n",
      "==============================================================================\n",
      "                 coef    std err          t      P>|t|      [0.025      0.975]\n",
      "------------------------------------------------------------------------------\n",
      "const          0.1524      0.022      6.878      0.000       0.100       0.205\n",
      "x1             0.3861      0.032     11.903      0.000       0.309       0.463\n",
      "==============================================================================\n",
      "Omnibus:                        2.531   Durbin-Watson:                   1.991\n",
      "Prob(Omnibus):                  0.282   Jarque-Bera (JB):                0.855\n",
      "Skew:                          -0.755   Prob(JB):                        0.652\n",
      "Kurtosis:                       2.995   Cond. No.                         12.3\n",
      "==============================================================================\n",
      "\n",
      "Warnings:\n",
      "[1] Standard Errors assume that the covariance matrix of the errors is correctly specified.\n"
     ]
    },
    {
     "name": "stderr",
     "output_type": "stream",
     "text": [
      "/Users/koeunlim/opt/anaconda3/lib/python3.7/site-packages/scipy/stats/stats.py:1604: UserWarning: kurtosistest only valid for n>=20 ... continuing anyway, n=9\n",
      "  \"anyway, n=%i\" % int(n))\n"
     ]
    }
   ],
   "source": [
    "# Skintone\n",
    "df_agg_f = df[df.Category == 'foundation-makeup'].groupby(by='Skintone').median()\n",
    "df_agg_l = df[df.Category == 'lipstick'].groupby(by='Skintone').median()\n",
    "x=df_agg_f.Luminosity\n",
    "y=df_agg_l.Luminosity\n",
    "lm = LinearRegression()\n",
    "model_lum = lm.fit(np.array(x).reshape(-1, 1), np.array(y).reshape(-1, 1))\n",
    "\n",
    "plt.title(\"Luminosity by Skintone\")\n",
    "plt.xlabel(\"Foundation Luminosity\")\n",
    "plt.ylabel(\"Lip Luminosity\")\n",
    "for i, txt in enumerate(df_agg_f.index.tolist()):\n",
    "    plt.scatter(x[i],y[i],facecolors=skintone_colors[skintones.index(txt)])\n",
    "    plt.annotate(txt, (x[i]+0.006, y[i]-0.0014))\n",
    "plt.plot(x, lm.predict(np.array(x).reshape(-1, 1)), c='gray',alpha=0.5)\n",
    "plt.show()\n",
    "print(model_lum.coef_[0])\n",
    "print(model_lum.intercept_)\n",
    "\n",
    "x_add_const = sm.add_constant(np.array(x).reshape(-1,1))\n",
    "model_lum_sm = sm.OLS(y,x_add_const).fit()\n",
    "print(model_lum_sm.summary())"
   ]
  },
  {
   "cell_type": "code",
   "execution_count": 19,
   "metadata": {},
   "outputs": [
    {
     "data": {
      "image/png": "[encoded data removed]",
      "text/plain": [
       "<Figure size 432x288 with 1 Axes>"
      ]
     },
     "metadata": {
      "needs_background": "light"
     },
     "output_type": "display_data"
    },
    {
     "name": "stdout",
     "output_type": "stream",
     "text": [
      "[0.41987734]\n",
      "[0.13009697]\n",
      "                            OLS Regression Results                            \n",
      "==============================================================================\n",
      "Dep. Variable:             Luminosity   R-squared:                       0.500\n",
      "Model:                            OLS   Adj. R-squared:                  0.375\n",
      "Method:                 Least Squares   F-statistic:                     4.000\n",
      "Date:                Fri, 18 Dec 2020   Prob (F-statistic):              0.116\n",
      "Time:                        22:42:50   Log-Likelihood:                 17.587\n",
      "No. Observations:                   6   AIC:                            -31.17\n",
      "Df Residuals:                       4   BIC:                            -31.59\n",
      "Df Model:                           1                                         \n",
      "Covariance Type:            nonrobust                                         \n",
      "==============================================================================\n",
      "                 coef    std err          t      P>|t|      [0.025      0.975]\n",
      "------------------------------------------------------------------------------\n",
      "const          0.1301      0.158      0.824      0.456      -0.308       0.569\n",
      "x1             0.4199      0.210      2.000      0.116      -0.163       1.003\n",
      "==============================================================================\n",
      "Omnibus:                          nan   Durbin-Watson:                   2.003\n",
      "Prob(Omnibus):                    nan   Jarque-Bera (JB):                0.580\n",
      "Skew:                           0.065   Prob(JB):                        0.748\n",
      "Kurtosis:                       1.482   Cond. No.                         50.9\n",
      "==============================================================================\n",
      "\n",
      "Warnings:\n",
      "[1] Standard Errors assume that the covariance matrix of the errors is correctly specified.\n"
     ]
    },
    {
     "name": "stderr",
     "output_type": "stream",
     "text": [
      "/Users/koeunlim/opt/anaconda3/lib/python3.7/site-packages/statsmodels/stats/stattools.py:71: ValueWarning: omni_normtest is not valid with less than 8 observations; 6 samples were given.\n",
      "  \"samples were given.\" % int(n), ValueWarning)\n"
     ]
    }
   ],
   "source": [
    "# Haircolor\n",
    "df_agg_f = df[df.Category == 'foundation-makeup'].groupby(by='Haircolor').median()\n",
    "df_agg_l = df[df.Category == 'lipstick'].groupby(by='Haircolor').median()\n",
    "x=df_agg_f.Luminosity\n",
    "y=df_agg_l.Luminosity\n",
    "lm = LinearRegression()\n",
    "model_lum = lm.fit(np.array(x).reshape(-1, 1), np.array(y).reshape(-1, 1))\n",
    "\n",
    "plt.title(\"Luminosity by Haircolor\")\n",
    "plt.xlabel(\"Foundation Luminosity\")\n",
    "plt.ylabel(\"Lip Luminosity\")\n",
    "for i, txt in enumerate(df_agg_f.index.tolist()):\n",
    "    plt.scatter(x[i],y[i],facecolors=haircolor_colors[haircolors.index(txt)])\n",
    "    plt.annotate(txt, (x[i]+0.006, y[i]-0.0014))\n",
    "plt.plot(x, lm.predict(np.array(x).reshape(-1, 1)), c='gray',alpha=0.5)\n",
    "plt.show()\n",
    "print(model_lum.coef_[0])\n",
    "print(model_lum.intercept_)\n",
    "\n",
    "x_add_const = sm.add_constant(np.array(x).reshape(-1,1))\n",
    "model_lum_sm = sm.OLS(y,x_add_const).fit()\n",
    "print(model_lum_sm.summary())"
   ]
  },
  {
   "cell_type": "code",
   "execution_count": 20,
   "metadata": {},
   "outputs": [
    {
     "data": {
      "image/png": "[encoded data removed]",
      "text/plain": [
       "<Figure size 432x288 with 1 Axes>"
      ]
     },
     "metadata": {
      "needs_background": "light"
     },
     "output_type": "display_data"
    },
    {
     "name": "stdout",
     "output_type": "stream",
     "text": [
      "[0.44011631]\n",
      "[0.11456246]\n",
      "                            OLS Regression Results                            \n",
      "==============================================================================\n",
      "Dep. Variable:             Luminosity   R-squared:                       0.799\n",
      "Model:                            OLS   Adj. R-squared:                  0.732\n",
      "Method:                 Least Squares   F-statistic:                     11.90\n",
      "Date:                Fri, 18 Dec 2020   Prob (F-statistic):             0.0409\n",
      "Time:                        22:43:47   Log-Likelihood:                 18.782\n",
      "No. Observations:                   5   AIC:                            -33.56\n",
      "Df Residuals:                       3   BIC:                            -34.34\n",
      "Df Model:                           1                                         \n",
      "Covariance Type:            nonrobust                                         \n",
      "==============================================================================\n",
      "                 coef    std err          t      P>|t|      [0.025      0.975]\n",
      "------------------------------------------------------------------------------\n",
      "const          0.1146      0.097      1.176      0.324      -0.195       0.424\n",
      "x1             0.4401      0.128      3.450      0.041       0.034       0.846\n",
      "==============================================================================\n",
      "Omnibus:                          nan   Durbin-Watson:                   1.891\n",
      "Prob(Omnibus):                    nan   Jarque-Bera (JB):                0.574\n",
      "Skew:                          -0.742   Prob(JB):                        0.751\n",
      "Kurtosis:                       2.259   Cond. No.                         61.8\n",
      "==============================================================================\n",
      "\n",
      "Warnings:\n",
      "[1] Standard Errors assume that the covariance matrix of the errors is correctly specified.\n"
     ]
    },
    {
     "name": "stderr",
     "output_type": "stream",
     "text": [
      "/Users/koeunlim/opt/anaconda3/lib/python3.7/site-packages/statsmodels/stats/stattools.py:71: ValueWarning: omni_normtest is not valid with less than 8 observations; 5 samples were given.\n",
      "  \"samples were given.\" % int(n), ValueWarning)\n"
     ]
    }
   ],
   "source": [
    "# Eyecolor\n",
    "df_agg_f = df[df.Category == 'foundation-makeup'].groupby(by='Eyecolor').median()\n",
    "df_agg_l = df[df.Category == 'lipstick'].groupby(by='Eyecolor').median()\n",
    "x=df_agg_f.Luminosity\n",
    "y=df_agg_l.Luminosity\n",
    "lm = LinearRegression()\n",
    "model_lum = lm.fit(np.array(x).reshape(-1, 1), np.array(y).reshape(-1, 1))\n",
    "\n",
    "plt.title(\"Luminosity by Eyecolor\")\n",
    "plt.xlabel(\"Foundation Luminosity\")\n",
    "plt.ylabel(\"Lip Luminosity\")\n",
    "for i, txt in enumerate(df_agg_f.index.tolist()):\n",
    "    plt.scatter(x[i],y[i],facecolors=eyecolor_colors[eyecolors.index(txt)])\n",
    "    plt.annotate(txt, (x[i]+0.006, y[i]-0.0014))\n",
    "plt.plot(x, lm.predict(np.array(x).reshape(-1, 1)), c='gray',alpha=0.5)\n",
    "plt.show()\n",
    "print(model_lum.coef_[0])\n",
    "print(model_lum.intercept_)\n",
    "\n",
    "x_add_const = sm.add_constant(np.array(x).reshape(-1,1))\n",
    "model_lum_sm = sm.OLS(y,x_add_const).fit()\n",
    "print(model_lum_sm.summary())"
   ]
  },
  {
   "cell_type": "markdown",
   "metadata": {},
   "source": [
    "### RGB components"
   ]
  },
  {
   "cell_type": "code",
   "execution_count": 32,
   "metadata": {},
   "outputs": [
    {
     "name": "stderr",
     "output_type": "stream",
     "text": [
      "The PostScript backend does not support transparency; partially transparent artists will be rendered opaque.\n"
     ]
    },
    {
     "data": {
      "image/png": "[encoded data removed]",
      "text/plain": [
       "<Figure size 432x288 with 1 Axes>"
      ]
     },
     "metadata": {
      "needs_background": "light"
     },
     "output_type": "display_data"
    },
    {
     "name": "stderr",
     "output_type": "stream",
     "text": [
      "The PostScript backend does not support transparency; partially transparent artists will be rendered opaque.\n"
     ]
    },
    {
     "name": "stdout",
     "output_type": "stream",
     "text": [
      "[0.39793355]\n",
      "[91.02800975]\n",
      "                            OLS Regression Results                            \n",
      "==============================================================================\n",
      "Dep. Variable:                      R   R-squared:                       0.911\n",
      "Model:                            OLS   Adj. R-squared:                  0.898\n",
      "Method:                 Least Squares   F-statistic:                     71.22\n",
      "Date:                Sat, 19 Dec 2020   Prob (F-statistic):           6.47e-05\n",
      "Time:                        14:54:41   Log-Likelihood:                -23.287\n",
      "No. Observations:                   9   AIC:                             50.57\n",
      "Df Residuals:                       7   BIC:                             50.97\n",
      "Df Model:                           1                                         \n",
      "Covariance Type:            nonrobust                                         \n",
      "==============================================================================\n",
      "                 coef    std err          t      P>|t|      [0.025      0.975]\n",
      "------------------------------------------------------------------------------\n",
      "const         91.0280      9.880      9.213      0.000      67.664     114.392\n",
      "x1             0.3979      0.047      8.439      0.000       0.286       0.509\n",
      "==============================================================================\n",
      "Omnibus:                        0.838   Durbin-Watson:                   1.640\n",
      "Prob(Omnibus):                  0.658   Jarque-Bera (JB):                0.672\n",
      "Skew:                          -0.394   Prob(JB):                        0.715\n",
      "Kurtosis:                       1.917   Cond. No.                     1.70e+03\n",
      "==============================================================================\n",
      "\n",
      "Warnings:\n",
      "[1] Standard Errors assume that the covariance matrix of the errors is correctly specified.\n",
      "[2] The condition number is large, 1.7e+03. This might indicate that there are\n",
      "strong multicollinearity or other numerical problems.\n"
     ]
    },
    {
     "data": {
      "image/png": "[encoded data removed]",
      "text/plain": [
       "<Figure size 432x288 with 1 Axes>"
      ]
     },
     "metadata": {
      "needs_background": "light"
     },
     "output_type": "display_data"
    },
    {
     "name": "stdout",
     "output_type": "stream",
     "text": [
      "[0.35693449]\n",
      "[19.36816365]\n",
      "                            OLS Regression Results                            \n",
      "==============================================================================\n",
      "Dep. Variable:                      G   R-squared:                       0.938\n",
      "Model:                            OLS   Adj. R-squared:                  0.929\n",
      "Method:                 Least Squares   F-statistic:                     105.6\n",
      "Date:                Sat, 19 Dec 2020   Prob (F-statistic):           1.79e-05\n",
      "Time:                        14:54:42   Log-Likelihood:                -22.565\n",
      "No. Observations:                   9   AIC:                             49.13\n",
      "Df Residuals:                       7   BIC:                             49.53\n",
      "Df Model:                           1                                         \n",
      "Covariance Type:            nonrobust                                         \n",
      "==============================================================================\n",
      "                 coef    std err          t      P>|t|      [0.025      0.975]\n",
      "------------------------------------------------------------------------------\n",
      "const         19.3682      5.718      3.387      0.012       5.848      32.888\n",
      "x1             0.3569      0.035     10.278      0.000       0.275       0.439\n",
      "==============================================================================\n",
      "Omnibus:                        1.983   Durbin-Watson:                   1.626\n",
      "Prob(Omnibus):                  0.371   Jarque-Bera (JB):                0.568\n",
      "Skew:                          -0.616   Prob(JB):                        0.753\n",
      "Kurtosis:                       2.995   Cond. No.                         839.\n",
      "==============================================================================\n",
      "\n",
      "Warnings:\n",
      "[1] Standard Errors assume that the covariance matrix of the errors is correctly specified.\n"
     ]
    },
    {
     "name": "stderr",
     "output_type": "stream",
     "text": [
      "The PostScript backend does not support transparency; partially transparent artists will be rendered opaque.\n"
     ]
    },
    {
     "data": {
      "image/png": "[encoded data removed]",
      "text/plain": [
       "<Figure size 432x288 with 1 Axes>"
      ]
     },
     "metadata": {
      "needs_background": "light"
     },
     "output_type": "display_data"
    },
    {
     "name": "stdout",
     "output_type": "stream",
     "text": [
      "[0.25616519]\n",
      "[53.22301374]\n",
      "                            OLS Regression Results                            \n",
      "==============================================================================\n",
      "Dep. Variable:                      B   R-squared:                       0.923\n",
      "Model:                            OLS   Adj. R-squared:                  0.912\n",
      "Method:                 Least Squares   F-statistic:                     83.45\n",
      "Date:                Sat, 19 Dec 2020   Prob (F-statistic):           3.87e-05\n",
      "Time:                        14:54:43   Log-Likelihood:                -21.027\n",
      "No. Observations:                   9   AIC:                             46.05\n",
      "Df Residuals:                       7   BIC:                             46.45\n",
      "Df Model:                           1                                         \n",
      "Covariance Type:            nonrobust                                         \n",
      "==============================================================================\n",
      "                 coef    std err          t      P>|t|      [0.025      0.975]\n",
      "------------------------------------------------------------------------------\n",
      "const         53.2230      3.726     14.285      0.000      44.413      62.033\n",
      "x1             0.2562      0.028      9.135      0.000       0.190       0.322\n",
      "==============================================================================\n",
      "Omnibus:                        1.246   Durbin-Watson:                   2.038\n",
      "Prob(Omnibus):                  0.536   Jarque-Bera (JB):                0.869\n",
      "Skew:                          -0.646   Prob(JB):                        0.648\n",
      "Kurtosis:                       2.194   Cond. No.                         523.\n",
      "==============================================================================\n",
      "\n",
      "Warnings:\n",
      "[1] Standard Errors assume that the covariance matrix of the errors is correctly specified.\n"
     ]
    }
   ],
   "source": [
    "## Skintone\n",
    "df_agg_f = df[df.Category == 'foundation-makeup'].groupby(by='Skintone').median()\n",
    "df_agg_l = df[df.Category == 'lipstick'].groupby(by='Skintone').median()\n",
    "x=df_agg_f.R\n",
    "y=df_agg_l.R\n",
    "model_lum = lm.fit(np.array(x).reshape(-1, 1), np.array(y).reshape(-1, 1))\n",
    "\n",
    "# R\n",
    "plt.title(\"R by Skintone\")\n",
    "plt.xlabel(\"Foundation R\")\n",
    "plt.ylabel(\"Lip R\")\n",
    "for i, txt in enumerate(df_agg_f.index.tolist()):\n",
    "    plt.scatter(x[i],y[i],facecolors=skintone_colors[skintones.index(txt)])\n",
    "    plt.annotate(txt, (x[i]+1.5, y[i]-0.5))\n",
    "plt.plot(x, lm.predict(np.array(x).reshape(-1, 1)), c='gray',alpha=0.5)\n",
    "plt.savefig('figures/LM_R_skintone.eps')\n",
    "plt.savefig('figures/LM_R_skintone.png')\n",
    "plt.show()\n",
    "print(model_lum.coef_[0])\n",
    "print(model_lum.intercept_)\n",
    "\n",
    "x_add_const = sm.add_constant(np.array(x).reshape(-1,1))\n",
    "model_lum_sm = sm.OLS(y,x_add_const).fit()\n",
    "print(model_lum_sm.summary())\n",
    "\n",
    "#G\n",
    "x=df_agg_f.G\n",
    "y=df_agg_l.G\n",
    "model_lum = lm.fit(np.array(x).reshape(-1, 1), np.array(y).reshape(-1, 1))\n",
    "\n",
    "plt.figure()\n",
    "plt.title(\"G by Skintone\")\n",
    "plt.xlabel(\"Foundation G\")\n",
    "plt.ylabel(\"Lip G\")\n",
    "for i, txt in enumerate(df_agg_f.index.tolist()):\n",
    "    plt.scatter(x[i],y[i],facecolors=skintone_colors[skintones.index(txt)])\n",
    "    plt.annotate(txt, (x[i]+1.5, y[i]-0.5))\n",
    "plt.plot(x, lm.predict(np.array(x).reshape(-1, 1)), c='gray',alpha=0.5)\n",
    "plt.savefig('figures/LM_G_skintone.eps')\n",
    "plt.savefig('figures/LM_G_skintone.png')\n",
    "plt.show()\n",
    "print(model_lum.coef_[0])\n",
    "print(model_lum.intercept_)\n",
    "\n",
    "x_add_const = sm.add_constant(np.array(x).reshape(-1,1))\n",
    "model_lum_sm = sm.OLS(y,x_add_const).fit()\n",
    "print(model_lum_sm.summary())\n",
    "\n",
    "#B\n",
    "x=df_agg_f.B\n",
    "y=df_agg_l.B\n",
    "model_lum = lm.fit(np.array(x).reshape(-1, 1), np.array(y).reshape(-1, 1))\n",
    "\n",
    "plt.figure()\n",
    "plt.title(\"B by Skintone\")\n",
    "plt.xlabel(\"Foundation B\")\n",
    "plt.ylabel(\"Lip B\")\n",
    "for i, txt in enumerate(df_agg_f.index.tolist()):\n",
    "    plt.scatter(x[i],y[i],facecolors=skintone_colors[skintones.index(txt)])\n",
    "    plt.annotate(txt, (x[i]+1.5, y[i]-0.5))\n",
    "plt.plot(x, lm.predict(np.array(x).reshape(-1, 1)), c='gray',alpha=0.5)\n",
    "plt.savefig('figures/LM_B_skintone.eps')\n",
    "plt.savefig('figures/LM_B_skintone.png')\n",
    "plt.show()\n",
    "print(model_lum.coef_[0])\n",
    "print(model_lum.intercept_)\n",
    "\n",
    "x_add_const = sm.add_constant(np.array(x).reshape(-1,1))\n",
    "model_lum_sm = sm.OLS(y,x_add_const).fit()\n",
    "print(model_lum_sm.summary())"
   ]
  },
  {
   "cell_type": "code",
   "execution_count": 26,
   "metadata": {},
   "outputs": [
    {
     "data": {
      "image/png": "[encoded data removed]",
      "text/plain": [
       "<Figure size 432x288 with 1 Axes>"
      ]
     },
     "metadata": {
      "needs_background": "light"
     },
     "output_type": "display_data"
    },
    {
     "name": "stdout",
     "output_type": "stream",
     "text": [
      "[0.68741806]\n",
      "[27.04908711]\n",
      "                            OLS Regression Results                            \n",
      "==============================================================================\n",
      "Dep. Variable:                      R   R-squared:                       0.691\n",
      "Model:                            OLS   Adj. R-squared:                  0.614\n",
      "Method:                 Least Squares   F-statistic:                     8.961\n",
      "Date:                Fri, 18 Dec 2020   Prob (F-statistic):             0.0402\n",
      "Time:                        22:56:56   Log-Likelihood:                -14.319\n",
      "No. Observations:                   6   AIC:                             32.64\n",
      "Df Residuals:                       4   BIC:                             32.22\n",
      "Df Model:                           1                                         \n",
      "Covariance Type:            nonrobust                                         \n",
      "==============================================================================\n",
      "                 coef    std err          t      P>|t|      [0.025      0.975]\n",
      "------------------------------------------------------------------------------\n",
      "const         27.0491     51.573      0.524      0.628    -116.141     170.239\n",
      "x1             0.6874      0.230      2.993      0.040       0.050       1.325\n",
      "==============================================================================\n",
      "Omnibus:                          nan   Durbin-Watson:                   1.922\n",
      "Prob(Omnibus):                    nan   Jarque-Bera (JB):                0.664\n",
      "Skew:                           0.143   Prob(JB):                        0.718\n",
      "Kurtosis:                       1.396   Cond. No.                     8.80e+03\n",
      "==============================================================================\n",
      "\n",
      "Warnings:\n",
      "[1] Standard Errors assume that the covariance matrix of the errors is correctly specified.\n",
      "[2] The condition number is large, 8.8e+03. This might indicate that there are\n",
      "strong multicollinearity or other numerical problems.\n"
     ]
    },
    {
     "name": "stderr",
     "output_type": "stream",
     "text": [
      "/Users/koeunlim/opt/anaconda3/lib/python3.7/site-packages/statsmodels/stats/stattools.py:71: ValueWarning: omni_normtest is not valid with less than 8 observations; 6 samples were given.\n",
      "  \"samples were given.\" % int(n), ValueWarning)\n"
     ]
    },
    {
     "data": {
      "image/png": "[encoded data removed]",
      "text/plain": [
       "<Figure size 432x288 with 1 Axes>"
      ]
     },
     "metadata": {
      "needs_background": "light"
     },
     "output_type": "display_data"
    },
    {
     "name": "stdout",
     "output_type": "stream",
     "text": [
      "[0.53015348]\n",
      "[-11.10639691]\n",
      "                            OLS Regression Results                            \n",
      "==============================================================================\n",
      "Dep. Variable:                      G   R-squared:                       0.383\n",
      "Model:                            OLS   Adj. R-squared:                  0.229\n",
      "Method:                 Least Squares   F-statistic:                     2.483\n",
      "Date:                Fri, 18 Dec 2020   Prob (F-statistic):              0.190\n",
      "Time:                        22:56:56   Log-Likelihood:                -18.722\n",
      "No. Observations:                   6   AIC:                             41.44\n",
      "Df Residuals:                       4   BIC:                             41.03\n",
      "Df Model:                           1                                         \n",
      "Covariance Type:            nonrobust                                         \n",
      "==============================================================================\n",
      "                 coef    std err          t      P>|t|      [0.025      0.975]\n",
      "------------------------------------------------------------------------------\n",
      "const        -11.1064     61.659     -0.180      0.866    -182.299     160.086\n",
      "x1             0.5302      0.336      1.576      0.190      -0.404       1.464\n",
      "==============================================================================\n",
      "Omnibus:                          nan   Durbin-Watson:                   2.267\n",
      "Prob(Omnibus):                    nan   Jarque-Bera (JB):                0.518\n",
      "Skew:                           0.429   Prob(JB):                        0.772\n",
      "Kurtosis:                       1.844   Cond. No.                     4.12e+03\n",
      "==============================================================================\n",
      "\n",
      "Warnings:\n",
      "[1] Standard Errors assume that the covariance matrix of the errors is correctly specified.\n",
      "[2] The condition number is large, 4.12e+03. This might indicate that there are\n",
      "strong multicollinearity or other numerical problems.\n"
     ]
    },
    {
     "name": "stderr",
     "output_type": "stream",
     "text": [
      "/Users/koeunlim/opt/anaconda3/lib/python3.7/site-packages/statsmodels/stats/stattools.py:71: ValueWarning: omni_normtest is not valid with less than 8 observations; 6 samples were given.\n",
      "  \"samples were given.\" % int(n), ValueWarning)\n"
     ]
    },
    {
     "data": {
      "image/png": "[encoded data removed]",
      "text/plain": [
       "<Figure size 432x288 with 1 Axes>"
      ]
     },
     "metadata": {
      "needs_background": "light"
     },
     "output_type": "display_data"
    },
    {
     "name": "stdout",
     "output_type": "stream",
     "text": [
      "[0.29200629]\n",
      "[50.22033198]\n",
      "                            OLS Regression Results                            \n",
      "==============================================================================\n",
      "Dep. Variable:                      B   R-squared:                       0.428\n",
      "Model:                            OLS   Adj. R-squared:                  0.285\n",
      "Method:                 Least Squares   F-statistic:                     2.989\n",
      "Date:                Fri, 18 Dec 2020   Prob (F-statistic):              0.159\n",
      "Time:                        22:56:56   Log-Likelihood:                -16.581\n",
      "No. Observations:                   6   AIC:                             37.16\n",
      "Df Residuals:                       4   BIC:                             36.75\n",
      "Df Model:                           1                                         \n",
      "Covariance Type:            nonrobust                                         \n",
      "==============================================================================\n",
      "                 coef    std err          t      P>|t|      [0.025      0.975]\n",
      "------------------------------------------------------------------------------\n",
      "const         50.2203     25.512      1.969      0.120     -20.612     121.053\n",
      "x1             0.2920      0.169      1.729      0.159      -0.177       0.761\n",
      "==============================================================================\n",
      "Omnibus:                          nan   Durbin-Watson:                   2.516\n",
      "Prob(Omnibus):                    nan   Jarque-Bera (JB):                0.593\n",
      "Skew:                           0.641   Prob(JB):                        0.743\n",
      "Kurtosis:                       2.147   Cond. No.                     2.01e+03\n",
      "==============================================================================\n",
      "\n",
      "Warnings:\n",
      "[1] Standard Errors assume that the covariance matrix of the errors is correctly specified.\n",
      "[2] The condition number is large, 2.01e+03. This might indicate that there are\n",
      "strong multicollinearity or other numerical problems.\n"
     ]
    },
    {
     "name": "stderr",
     "output_type": "stream",
     "text": [
      "/Users/koeunlim/opt/anaconda3/lib/python3.7/site-packages/statsmodels/stats/stattools.py:71: ValueWarning: omni_normtest is not valid with less than 8 observations; 6 samples were given.\n",
      "  \"samples were given.\" % int(n), ValueWarning)\n"
     ]
    }
   ],
   "source": [
    "## Haircolor\n",
    "# R\n",
    "df_agg_f = df[df.Category == 'foundation-makeup'].groupby(by='Haircolor').median()\n",
    "df_agg_l = df[df.Category == 'lipstick'].groupby(by='Haircolor').median()\n",
    "x=df_agg_f.R\n",
    "y=df_agg_l.R\n",
    "model_lum = lm.fit(np.array(x).reshape(-1, 1), np.array(y).reshape(-1, 1))\n",
    "\n",
    "plt.title(\"R by Haircolor\")\n",
    "plt.xlabel(\"Foundation R\")\n",
    "plt.ylabel(\"Lip R\")\n",
    "for i, txt in enumerate(df_agg_f.index.tolist()):\n",
    "    plt.scatter(x[i],y[i],facecolors=haircolor_colors[haircolors.index(txt)])\n",
    "    plt.annotate(txt, (x[i]+0.006, y[i]-0.0014))\n",
    "plt.plot(x, lm.predict(np.array(x).reshape(-1, 1)), c='gray',alpha=0.5)\n",
    "plt.show()\n",
    "print(model_lum.coef_[0])\n",
    "print(model_lum.intercept_)\n",
    "\n",
    "x_add_const = sm.add_constant(np.array(x).reshape(-1,1))\n",
    "model_lum_sm = sm.OLS(y,x_add_const).fit()\n",
    "print(model_lum_sm.summary())\n",
    "\n",
    "# G\n",
    "x=df_agg_f.G\n",
    "y=df_agg_l.G\n",
    "model_lum = lm.fit(np.array(x).reshape(-1, 1), np.array(y).reshape(-1, 1))\n",
    "\n",
    "plt.figure()\n",
    "plt.title(\"G by Haircolor\")\n",
    "plt.xlabel(\"Foundation G\")\n",
    "plt.ylabel(\"Lip G\")\n",
    "for i, txt in enumerate(df_agg_f.index.tolist()):\n",
    "    plt.scatter(x[i],y[i],facecolors=haircolor_colors[haircolors.index(txt)])\n",
    "    plt.annotate(txt, (x[i]+0.006, y[i]-0.0014))\n",
    "plt.plot(x, lm.predict(np.array(x).reshape(-1, 1)), c='gray',alpha=0.5)\n",
    "plt.show()\n",
    "print(model_lum.coef_[0])\n",
    "print(model_lum.intercept_)\n",
    "\n",
    "x_add_const = sm.add_constant(np.array(x).reshape(-1,1))\n",
    "model_lum_sm = sm.OLS(y,x_add_const).fit()\n",
    "print(model_lum_sm.summary())\n",
    "\n",
    "# B\n",
    "x=df_agg_f.B\n",
    "y=df_agg_l.B\n",
    "model_lum = lm.fit(np.array(x).reshape(-1, 1), np.array(y).reshape(-1, 1))\n",
    "\n",
    "plt.figure()\n",
    "plt.title(\"B by Haircolor\")\n",
    "plt.xlabel(\"Foundation B\")\n",
    "plt.ylabel(\"Lip B\")\n",
    "for i, txt in enumerate(df_agg_f.index.tolist()):\n",
    "    plt.scatter(x[i],y[i],facecolors=haircolor_colors[haircolors.index(txt)])\n",
    "    plt.annotate(txt, (x[i]+0.006, y[i]-0.0014))\n",
    "plt.plot(x, lm.predict(np.array(x).reshape(-1, 1)), c='gray',alpha=0.5)\n",
    "plt.show()\n",
    "print(model_lum.coef_[0])\n",
    "print(model_lum.intercept_)\n",
    "\n",
    "x_add_const = sm.add_constant(np.array(x).reshape(-1,1))\n",
    "model_lum_sm = sm.OLS(y,x_add_const).fit()\n",
    "print(model_lum_sm.summary())"
   ]
  },
  {
   "cell_type": "code",
   "execution_count": 27,
   "metadata": {},
   "outputs": [
    {
     "data": {
      "image/png": "[encoded data removed]",
      "text/plain": [
       "<Figure size 432x288 with 1 Axes>"
      ]
     },
     "metadata": {
      "needs_background": "light"
     },
     "output_type": "display_data"
    },
    {
     "name": "stdout",
     "output_type": "stream",
     "text": [
      "[0.315966]\n",
      "[110.01890045]\n",
      "                            OLS Regression Results                            \n",
      "==============================================================================\n",
      "Dep. Variable:                      R   R-squared:                       0.149\n",
      "Model:                            OLS   Adj. R-squared:                 -0.134\n",
      "Method:                 Least Squares   F-statistic:                    0.5272\n",
      "Date:                Fri, 18 Dec 2020   Prob (F-statistic):              0.520\n",
      "Time:                        22:58:19   Log-Likelihood:                -12.949\n",
      "No. Observations:                   5   AIC:                             29.90\n",
      "Df Residuals:                       3   BIC:                             29.12\n",
      "Df Model:                           1                                         \n",
      "Covariance Type:            nonrobust                                         \n",
      "==============================================================================\n",
      "                 coef    std err          t      P>|t|      [0.025      0.975]\n",
      "------------------------------------------------------------------------------\n",
      "const        110.0189     98.755      1.114      0.346    -204.265     424.303\n",
      "x1             0.3160      0.435      0.726      0.520      -1.069       1.701\n",
      "==============================================================================\n",
      "Omnibus:                          nan   Durbin-Watson:                   2.069\n",
      "Prob(Omnibus):                    nan   Jarque-Bera (JB):                0.523\n",
      "Skew:                          -0.681   Prob(JB):                        0.770\n",
      "Kurtosis:                       2.190   Cond. No.                     1.20e+04\n",
      "==============================================================================\n",
      "\n",
      "Warnings:\n",
      "[1] Standard Errors assume that the covariance matrix of the errors is correctly specified.\n",
      "[2] The condition number is large, 1.2e+04. This might indicate that there are\n",
      "strong multicollinearity or other numerical problems.\n"
     ]
    },
    {
     "name": "stderr",
     "output_type": "stream",
     "text": [
      "/Users/koeunlim/opt/anaconda3/lib/python3.7/site-packages/statsmodels/stats/stattools.py:71: ValueWarning: omni_normtest is not valid with less than 8 observations; 5 samples were given.\n",
      "  \"samples were given.\" % int(n), ValueWarning)\n"
     ]
    },
    {
     "data": {
      "image/png": "[encoded data removed]",
      "text/plain": [
       "<Figure size 432x288 with 1 Axes>"
      ]
     },
     "metadata": {
      "needs_background": "light"
     },
     "output_type": "display_data"
    },
    {
     "name": "stdout",
     "output_type": "stream",
     "text": [
      "[0.59442702]\n",
      "[-22.60726954]\n",
      "                            OLS Regression Results                            \n",
      "==============================================================================\n",
      "Dep. Variable:                      G   R-squared:                       0.785\n",
      "Model:                            OLS   Adj. R-squared:                  0.713\n",
      "Method:                 Least Squares   F-statistic:                     10.92\n",
      "Date:                Fri, 18 Dec 2020   Prob (F-statistic):             0.0456\n",
      "Time:                        22:58:19   Log-Likelihood:                -10.706\n",
      "No. Observations:                   5   AIC:                             25.41\n",
      "Df Residuals:                       3   BIC:                             24.63\n",
      "Df Model:                           1                                         \n",
      "Covariance Type:            nonrobust                                         \n",
      "==============================================================================\n",
      "                 coef    std err          t      P>|t|      [0.025      0.975]\n",
      "------------------------------------------------------------------------------\n",
      "const        -22.6073     33.497     -0.675      0.548    -129.210      83.996\n",
      "x1             0.5944      0.180      3.305      0.046       0.022       1.167\n",
      "==============================================================================\n",
      "Omnibus:                          nan   Durbin-Watson:                   2.169\n",
      "Prob(Omnibus):                    nan   Jarque-Bera (JB):                0.424\n",
      "Skew:                          -0.568   Prob(JB):                        0.809\n",
      "Kurtosis:                       2.139   Cond. No.                     5.25e+03\n",
      "==============================================================================\n",
      "\n",
      "Warnings:\n",
      "[1] Standard Errors assume that the covariance matrix of the errors is correctly specified.\n",
      "[2] The condition number is large, 5.25e+03. This might indicate that there are\n",
      "strong multicollinearity or other numerical problems.\n"
     ]
    },
    {
     "name": "stderr",
     "output_type": "stream",
     "text": [
      "/Users/koeunlim/opt/anaconda3/lib/python3.7/site-packages/statsmodels/stats/stattools.py:71: ValueWarning: omni_normtest is not valid with less than 8 observations; 5 samples were given.\n",
      "  \"samples were given.\" % int(n), ValueWarning)\n"
     ]
    },
    {
     "data": {
      "image/png": "[encoded data removed]",
      "text/plain": [
       "<Figure size 432x288 with 1 Axes>"
      ]
     },
     "metadata": {
      "needs_background": "light"
     },
     "output_type": "display_data"
    },
    {
     "name": "stdout",
     "output_type": "stream",
     "text": [
      "[0.35812875]\n",
      "[38.88499974]\n",
      "                            OLS Regression Results                            \n",
      "==============================================================================\n",
      "Dep. Variable:                      B   R-squared:                       0.742\n",
      "Model:                            OLS   Adj. R-squared:                  0.656\n",
      "Method:                 Least Squares   F-statistic:                     8.616\n",
      "Date:                Fri, 18 Dec 2020   Prob (F-statistic):             0.0607\n",
      "Time:                        22:58:19   Log-Likelihood:                -9.7952\n",
      "No. Observations:                   5   AIC:                             23.59\n",
      "Df Residuals:                       3   BIC:                             22.81\n",
      "Df Model:                           1                                         \n",
      "Covariance Type:            nonrobust                                         \n",
      "==============================================================================\n",
      "                 coef    std err          t      P>|t|      [0.025      0.975]\n",
      "------------------------------------------------------------------------------\n",
      "const         38.8850     18.906      2.057      0.132     -21.283      99.053\n",
      "x1             0.3581      0.122      2.935      0.061      -0.030       0.746\n",
      "==============================================================================\n",
      "Omnibus:                          nan   Durbin-Watson:                   2.310\n",
      "Prob(Omnibus):                    nan   Jarque-Bera (JB):                0.376\n",
      "Skew:                          -0.454   Prob(JB):                        0.829\n",
      "Kurtosis:                       2.010   Cond. No.                     2.96e+03\n",
      "==============================================================================\n",
      "\n",
      "Warnings:\n",
      "[1] Standard Errors assume that the covariance matrix of the errors is correctly specified.\n",
      "[2] The condition number is large, 2.96e+03. This might indicate that there are\n",
      "strong multicollinearity or other numerical problems.\n"
     ]
    },
    {
     "name": "stderr",
     "output_type": "stream",
     "text": [
      "/Users/koeunlim/opt/anaconda3/lib/python3.7/site-packages/statsmodels/stats/stattools.py:71: ValueWarning: omni_normtest is not valid with less than 8 observations; 5 samples were given.\n",
      "  \"samples were given.\" % int(n), ValueWarning)\n"
     ]
    }
   ],
   "source": [
    "# Eyecolor\n",
    "df_agg_f = df[df.Category == 'foundation-makeup'].groupby(by='Eyecolor').median()\n",
    "df_agg_l = df[df.Category == 'lipstick'].groupby(by='Eyecolor').median()\n",
    "\n",
    "#R\n",
    "x=df_agg_f.R\n",
    "y=df_agg_l.R\n",
    "model_lum = lm.fit(np.array(x).reshape(-1, 1), np.array(y).reshape(-1, 1))\n",
    "\n",
    "plt.title(\"R by Eyecolor\")\n",
    "plt.xlabel(\"Foundation R\")\n",
    "plt.ylabel(\"Lip R\")\n",
    "for i, txt in enumerate(df_agg_f.index.tolist()):\n",
    "    plt.scatter(x[i],y[i],facecolors=eyecolor_colors[eyecolors.index(txt)])\n",
    "    plt.annotate(txt, (x[i]+0.006, y[i]-0.0014))\n",
    "plt.plot(x, lm.predict(np.array(x).reshape(-1, 1)), c='gray',alpha=0.5)\n",
    "plt.show()\n",
    "print(model_lum.coef_[0])\n",
    "print(model_lum.intercept_)\n",
    "\n",
    "x_add_const = sm.add_constant(np.array(x).reshape(-1,1))\n",
    "model_lum_sm = sm.OLS(y,x_add_const).fit()\n",
    "print(model_lum_sm.summary())\n",
    "\n",
    "#G\n",
    "x=df_agg_f.G\n",
    "y=df_agg_l.G\n",
    "model_lum = lm.fit(np.array(x).reshape(-1, 1), np.array(y).reshape(-1, 1))\n",
    "\n",
    "plt.figure()\n",
    "plt.title(\"G by Eyecolor\")\n",
    "plt.xlabel(\"Foundation G\")\n",
    "plt.ylabel(\"Lip G\")\n",
    "for i, txt in enumerate(df_agg_f.index.tolist()):\n",
    "    plt.scatter(x[i],y[i],facecolors=eyecolor_colors[eyecolors.index(txt)])\n",
    "    plt.annotate(txt, (x[i]+0.006, y[i]-0.0014))\n",
    "plt.plot(x, lm.predict(np.array(x).reshape(-1, 1)), c='gray',alpha=0.5)\n",
    "plt.show()\n",
    "print(model_lum.coef_[0])\n",
    "print(model_lum.intercept_)\n",
    "\n",
    "x_add_const = sm.add_constant(np.array(x).reshape(-1,1))\n",
    "model_lum_sm = sm.OLS(y,x_add_const).fit()\n",
    "print(model_lum_sm.summary())\n",
    "\n",
    "#B\n",
    "x=df_agg_f.B\n",
    "y=df_agg_l.B\n",
    "model_lum = lm.fit(np.array(x).reshape(-1, 1), np.array(y).reshape(-1, 1))\n",
    "\n",
    "plt.figure()\n",
    "plt.title(\"B by Eyecolor\")\n",
    "plt.xlabel(\"Foundation B\")\n",
    "plt.ylabel(\"Lip B\")\n",
    "for i, txt in enumerate(df_agg_f.index.tolist()):\n",
    "    plt.scatter(x[i],y[i],facecolors=eyecolor_colors[eyecolors.index(txt)])\n",
    "    plt.annotate(txt, (x[i]+0.006, y[i]-0.0014))\n",
    "plt.plot(x, lm.predict(np.array(x).reshape(-1, 1)), c='gray',alpha=0.5)\n",
    "plt.show()\n",
    "print(model_lum.coef_[0])\n",
    "print(model_lum.intercept_)\n",
    "\n",
    "x_add_const = sm.add_constant(np.array(x).reshape(-1,1))\n",
    "model_lum_sm = sm.OLS(y,x_add_const).fit()\n",
    "print(model_lum_sm.summary())"
   ]
  },
  {
   "cell_type": "code",
   "execution_count": null,
   "metadata": {},
   "outputs": [],
   "source": []
  }
 ],
 "metadata": {
  "kernelspec": {
   "display_name": "Python 3",
   "language": "python",
   "name": "python3"
  },
  "language_info": {
   "codemirror_mode": {
    "name": "ipython",
    "version": 3
   },
   "file_extension": ".py",
   "mimetype": "text/x-python",
   "name": "python",
   "nbconvert_exporter": "python",
   "pygments_lexer": "ipython3",
   "version": "3.7.4"
  }
 },
 "nbformat": 4,
 "nbformat_minor": 4
}
