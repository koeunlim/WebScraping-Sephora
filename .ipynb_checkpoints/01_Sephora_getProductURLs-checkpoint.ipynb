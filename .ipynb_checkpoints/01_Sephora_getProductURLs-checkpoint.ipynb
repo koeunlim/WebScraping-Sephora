{
 "cells": [
  {
   "cell_type": "markdown",
   "metadata": {},
   "source": [
    "# WebScraping-Sephora: Step 1. Get Product URLs\n",
    "NYCDSA web scraping project"
   ]
  },
  {
   "cell_type": "markdown",
   "metadata": {},
   "source": [
    "## Project Description\n",
    "The goal of this project is to explore the color spectrum of the foundations and lipsticks given reviewer's dominant colors (hair color, eye color, and skin tone from Sephora's reviewer inputs) to see if particular features are strongly correlated between the purchased and liked foundation and lipstick colors.\n",
    "\n",
    "Please see Readme.md for more information including the Repository layout.\n",
    "\n",
    "---\n",
    "### Project Outline\n",
    "-Step 1. Scrape product URLs\n",
    "-Step 2. Scrape product reviews\n",
    "-Step 3. Load all data and explore data\n"
   ]
  },
  {
   "cell_type": "markdown",
   "metadata": {},
   "source": [
    "### Step 1. Get Product URLs\n",
    "Since sephora.com runs heavily on dynamic API components, product URLs were first collected from Sephora using Selenium instead of Scrapy."
   ]
  },
  {
   "cell_type": "code",
   "execution_count": null,
   "metadata": {},
   "outputs": [],
   "source": [
    "import pandas as pd\n",
    "import time\n",
    "from selenium import webdriver\n",
    "from selenium.webdriver.common.keys import Keys\n",
    "\n",
    "driver = webdriver.Chrome(\"/usr/local/bin/chromedriver\")\n",
    "\n",
    "\n",
    "# Define product categories to scrape urls for\n",
    "categories = [\"foundation-makeup\",\"lipstick\"]\n",
    "\n",
    "# Create dataframe for url list\n",
    "df_urls = pd.DataFrame(columns = ['Category','Product','URL'])\n",
    "\n",
    "\n",
    "def scrollDown(driver, n_scrolls):\n",
    "    body = driver.find_element_by_tag_name(\"body\")\n",
    "    while n_scrolls >=0:\n",
    "        body.send_keys(Keys.PAGE_DOWN)\n",
    "        n_scrolls -= 1\n",
    "    return driver\n",
    "\n",
    "\n",
    "for category in categories:\n",
    "    url = 'https://www.sephora.com/shop/' + category + '?pageSize=300'\n",
    "    driver.get(url)\n",
    "    time.sleep(10)\n",
    "    \n",
    "    old_len = 0\n",
    "    while True:\n",
    "        browser = scrollDown(driver,100)\n",
    "        time.sleep(5)\n",
    "        slug = driver.find_elements_by_class_name(\"css-ix8km1\")\n",
    "        new_len = len(slug)\n",
    "        if old_len == new_len:\n",
    "            break\n",
    "        else:\n",
    "            old_len = new_len\n",
    "    \n",
    "    slugURL = []\n",
    "    for a in slug:\n",
    "        subURL = {}\n",
    "        subURL['Category'] = category \n",
    "        subURL['Product'] = a.get_attribute('aria-label')\n",
    "        subURL['URL'] = a.get_attribute('href')\n",
    "        slugURL.append(subURL)\n",
    "    \n",
    "    #assign scraped data to a dataframe\n",
    "    df = pd.DataFrame(slugURL)\n",
    "    \n",
    "    #concatenating to get all in same df\n",
    "    df_urls = pd.concat([df_urls, df], axis = 0, ignore_index = True) \n",
    "\n",
    "\n",
    "driver.close()\n",
    "\n",
    "df_urls.to_csv('./data/product_urls.csv', index = False)"
   ]
  }
 ],
 "metadata": {
  "kernelspec": {
   "display_name": "Python 3",
   "language": "python",
   "name": "python3"
  },
  "language_info": {
   "codemirror_mode": {
    "name": "ipython",
    "version": 3
   },
   "file_extension": ".py",
   "mimetype": "text/x-python",
   "name": "python",
   "nbconvert_exporter": "python",
   "pygments_lexer": "ipython3",
   "version": "3.7.4"
  }
 },
 "nbformat": 4,
 "nbformat_minor": 4
}
